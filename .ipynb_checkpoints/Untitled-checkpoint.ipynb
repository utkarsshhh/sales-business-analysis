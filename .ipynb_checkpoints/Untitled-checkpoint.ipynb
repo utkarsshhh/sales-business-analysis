{
 "cells": [
  {
   "cell_type": "code",
   "execution_count": 1,
   "id": "72d1185d",
   "metadata": {},
   "outputs": [],
   "source": [
    "import pandas as pd\n",
    "import os\n",
    "import datetime\n",
    "from datetime import datetime\n",
    "import matplotlib.pyplot as plt"
   ]
  },
  {
   "cell_type": "code",
   "execution_count": 2,
   "id": "901f23cf",
   "metadata": {},
   "outputs": [],
   "source": [
    "files = os.listdir('datasets')"
   ]
  },
  {
   "cell_type": "code",
   "execution_count": 3,
   "id": "b737482e",
   "metadata": {},
   "outputs": [
    {
     "data": {
      "text/plain": [
       "['sales_week_starting_2013-01-07.csv',\n",
       " '._sales_week_starting_2013-01-07.csv',\n",
       " 'sales_week_starting_2012-12-24.csv',\n",
       " '._sales_week_starting_2012-12-24.csv',\n",
       " 'sales_week_starting_2012-12-31.csv',\n",
       " '._sales_week_starting_2012-12-31.csv',\n",
       " 'sales_week_starting_2013-04-22.csv',\n",
       " '._sales_week_starting_2013-04-22.csv',\n",
       " 'sales_week_starting_2012-10-08.csv',\n",
       " '._sales_week_starting_2012-10-08.csv',\n",
       " 'sales_week_starting_2012-10-22.csv',\n",
       " '._sales_week_starting_2012-10-22.csv',\n",
       " 'sales_week_starting_2013-04-08.csv',\n",
       " '._sales_week_starting_2013-04-08.csv',\n",
       " 'sales_week_starting_2013-06-24.csv',\n",
       " '._sales_week_starting_2013-06-24.csv',\n",
       " 'sales_week_starting_2013-08-19.csv',\n",
       " '._sales_week_starting_2013-08-19.csv',\n",
       " 'sales_week_starting_2013-03-04.csv',\n",
       " '._sales_week_starting_2013-03-04.csv',\n",
       " 'sales_week_starting_2013-03-11.csv',\n",
       " '._sales_week_starting_2013-03-11.csv',\n",
       " 'sales_week_starting_2013-01-28.csv',\n",
       " '._sales_week_starting_2013-01-28.csv',\n",
       " 'sales_week_starting_2013-01-14.csv',\n",
       " '._sales_week_starting_2013-01-14.csv',\n",
       " 'sales_week_starting_2013-08-26.csv',\n",
       " '._sales_week_starting_2013-08-26.csv',\n",
       " 'sales_week_starting_2013-09-02.csv',\n",
       " '._sales_week_starting_2013-09-02.csv',\n",
       " 'sales_week_starting_2013-05-06.csv',\n",
       " '._sales_week_starting_2013-05-06.csv',\n",
       " 'sales_week_starting_2012-11-05.csv',\n",
       " '._sales_week_starting_2012-11-05.csv',\n",
       " 'sales_week_starting_2013-05-13.csv',\n",
       " '._sales_week_starting_2013-05-13.csv',\n",
       " 'sales_week_starting_2013-02-18.csv',\n",
       " '._sales_week_starting_2013-02-18.csv',\n",
       " 'sales_week_starting_2013-07-29.csv',\n",
       " '._sales_week_starting_2013-07-29.csv',\n",
       " 'sales_week_starting_2013-07-15.csv',\n",
       " '._sales_week_starting_2013-07-15.csv',\n",
       " 'sales_week_starting_2013-07-01.csv',\n",
       " '._sales_week_starting_2013-07-01.csv',\n",
       " 'sales_week_starting_2012-11-12.csv',\n",
       " '._sales_week_starting_2012-11-12.csv',\n",
       " 'sales_week_starting_2013-02-25.csv',\n",
       " '._sales_week_starting_2013-02-25.csv',\n",
       " 'sales_week_starting_2013-09-09.csv',\n",
       " '._sales_week_starting_2013-09-09.csv',\n",
       " 'sales_week_starting_2013-05-20.csv',\n",
       " '._sales_week_starting_2013-05-20.csv',\n",
       " 'sales_week_starting_2013-05-27.csv',\n",
       " '._sales_week_starting_2013-05-27.csv',\n",
       " 'sales_week_starting_2012-11-19.csv',\n",
       " '._sales_week_starting_2012-11-19.csv',\n",
       " 'sales_week_starting_2013-07-22.csv',\n",
       " '._sales_week_starting_2013-07-22.csv',\n",
       " 'sales_week_starting_2013-02-11.csv',\n",
       " '._sales_week_starting_2013-02-11.csv',\n",
       " 'sales_week_starting_2012-11-26.csv',\n",
       " '._sales_week_starting_2012-11-26.csv',\n",
       " 'sales_week_starting_2013-07-08.csv',\n",
       " '._sales_week_starting_2013-07-08.csv',\n",
       " 'sales_week_starting_2013-02-04.csv',\n",
       " '._sales_week_starting_2013-02-04.csv',\n",
       " 'sales_week_starting_2012-12-10.csv',\n",
       " '._sales_week_starting_2012-12-10.csv',\n",
       " 'sales_week_starting_2012-10-15.csv',\n",
       " '._sales_week_starting_2012-10-15.csv',\n",
       " 'sales_week_starting_2012-10-01.csv',\n",
       " '._sales_week_starting_2012-10-01.csv',\n",
       " 'sales_week_starting_2012-10-29.csv',\n",
       " '._sales_week_starting_2012-10-29.csv',\n",
       " 'sales_week_starting_2013-06-10.csv',\n",
       " '._sales_week_starting_2013-06-10.csv',\n",
       " 'sales_week_starting_2013-04-01.csv',\n",
       " '._sales_week_starting_2013-04-01.csv',\n",
       " 'sales_week_starting_2013-04-15.csv',\n",
       " '._sales_week_starting_2013-04-15.csv',\n",
       " 'sales_week_starting_2013-04-29.csv',\n",
       " '._sales_week_starting_2013-04-29.csv',\n",
       " 'sales_week_starting_2013-03-25.csv',\n",
       " '._sales_week_starting_2013-03-25.csv',\n",
       " 'sales_week_starting_2012-12-17.csv',\n",
       " '._sales_week_starting_2012-12-17.csv',\n",
       " 'sales_week_starting_2012-12-03.csv',\n",
       " '._sales_week_starting_2012-12-03.csv',\n",
       " 'sales_week_starting_2013-03-18.csv',\n",
       " '._sales_week_starting_2013-03-18.csv',\n",
       " 'sales_week_starting_2013-01-21.csv',\n",
       " '._sales_week_starting_2013-01-21.csv',\n",
       " 'sales_week_starting_2013-08-05.csv',\n",
       " '._sales_week_starting_2013-08-05.csv',\n",
       " 'sales_week_starting_2013-06-03.csv',\n",
       " '._sales_week_starting_2013-06-03.csv',\n",
       " 'sales_week_starting_2013-06-17.csv',\n",
       " '._sales_week_starting_2013-06-17.csv',\n",
       " 'sales_week_starting_2013-08-12.csv',\n",
       " '._sales_week_starting_2013-08-12.csv']"
      ]
     },
     "execution_count": 3,
     "metadata": {},
     "output_type": "execute_result"
    }
   ],
   "source": [
    "files"
   ]
  },
  {
   "cell_type": "code",
   "execution_count": 4,
   "id": "23783b8e",
   "metadata": {},
   "outputs": [
    {
     "data": {
      "text/plain": [
       "100"
      ]
     },
     "execution_count": 4,
     "metadata": {},
     "output_type": "execute_result"
    }
   ],
   "source": [
    "len(files)"
   ]
  },
  {
   "cell_type": "code",
   "execution_count": 5,
   "id": "90daa30d",
   "metadata": {},
   "outputs": [],
   "source": [
    "sales_files = [x for x in files if x.startswith(\"sales\")]"
   ]
  },
  {
   "cell_type": "code",
   "execution_count": 6,
   "id": "dab4676d",
   "metadata": {},
   "outputs": [
    {
     "data": {
      "text/plain": [
       "['sales_week_starting_2013-01-07.csv',\n",
       " 'sales_week_starting_2012-12-24.csv',\n",
       " 'sales_week_starting_2012-12-31.csv',\n",
       " 'sales_week_starting_2013-04-22.csv',\n",
       " 'sales_week_starting_2012-10-08.csv',\n",
       " 'sales_week_starting_2012-10-22.csv',\n",
       " 'sales_week_starting_2013-04-08.csv',\n",
       " 'sales_week_starting_2013-06-24.csv',\n",
       " 'sales_week_starting_2013-08-19.csv',\n",
       " 'sales_week_starting_2013-03-04.csv',\n",
       " 'sales_week_starting_2013-03-11.csv',\n",
       " 'sales_week_starting_2013-01-28.csv',\n",
       " 'sales_week_starting_2013-01-14.csv',\n",
       " 'sales_week_starting_2013-08-26.csv',\n",
       " 'sales_week_starting_2013-09-02.csv',\n",
       " 'sales_week_starting_2013-05-06.csv',\n",
       " 'sales_week_starting_2012-11-05.csv',\n",
       " 'sales_week_starting_2013-05-13.csv',\n",
       " 'sales_week_starting_2013-02-18.csv',\n",
       " 'sales_week_starting_2013-07-29.csv',\n",
       " 'sales_week_starting_2013-07-15.csv',\n",
       " 'sales_week_starting_2013-07-01.csv',\n",
       " 'sales_week_starting_2012-11-12.csv',\n",
       " 'sales_week_starting_2013-02-25.csv',\n",
       " 'sales_week_starting_2013-09-09.csv',\n",
       " 'sales_week_starting_2013-05-20.csv',\n",
       " 'sales_week_starting_2013-05-27.csv',\n",
       " 'sales_week_starting_2012-11-19.csv',\n",
       " 'sales_week_starting_2013-07-22.csv',\n",
       " 'sales_week_starting_2013-02-11.csv',\n",
       " 'sales_week_starting_2012-11-26.csv',\n",
       " 'sales_week_starting_2013-07-08.csv',\n",
       " 'sales_week_starting_2013-02-04.csv',\n",
       " 'sales_week_starting_2012-12-10.csv',\n",
       " 'sales_week_starting_2012-10-15.csv',\n",
       " 'sales_week_starting_2012-10-01.csv',\n",
       " 'sales_week_starting_2012-10-29.csv',\n",
       " 'sales_week_starting_2013-06-10.csv',\n",
       " 'sales_week_starting_2013-04-01.csv',\n",
       " 'sales_week_starting_2013-04-15.csv',\n",
       " 'sales_week_starting_2013-04-29.csv',\n",
       " 'sales_week_starting_2013-03-25.csv',\n",
       " 'sales_week_starting_2012-12-17.csv',\n",
       " 'sales_week_starting_2012-12-03.csv',\n",
       " 'sales_week_starting_2013-03-18.csv',\n",
       " 'sales_week_starting_2013-01-21.csv',\n",
       " 'sales_week_starting_2013-08-05.csv',\n",
       " 'sales_week_starting_2013-06-03.csv',\n",
       " 'sales_week_starting_2013-06-17.csv',\n",
       " 'sales_week_starting_2013-08-12.csv']"
      ]
     },
     "execution_count": 6,
     "metadata": {},
     "output_type": "execute_result"
    }
   ],
   "source": [
    "sales_files"
   ]
  },
  {
   "cell_type": "code",
   "execution_count": 7,
   "id": "7ef2fc8b",
   "metadata": {},
   "outputs": [],
   "source": [
    "ordered_list = sorted(sales_files)"
   ]
  },
  {
   "cell_type": "code",
   "execution_count": 8,
   "id": "fecbf349",
   "metadata": {},
   "outputs": [
    {
     "data": {
      "text/plain": [
       "['sales_week_starting_2012-10-01.csv',\n",
       " 'sales_week_starting_2012-10-08.csv',\n",
       " 'sales_week_starting_2012-10-15.csv',\n",
       " 'sales_week_starting_2012-10-22.csv',\n",
       " 'sales_week_starting_2012-10-29.csv',\n",
       " 'sales_week_starting_2012-11-05.csv',\n",
       " 'sales_week_starting_2012-11-12.csv',\n",
       " 'sales_week_starting_2012-11-19.csv',\n",
       " 'sales_week_starting_2012-11-26.csv',\n",
       " 'sales_week_starting_2012-12-03.csv',\n",
       " 'sales_week_starting_2012-12-10.csv',\n",
       " 'sales_week_starting_2012-12-17.csv',\n",
       " 'sales_week_starting_2012-12-24.csv',\n",
       " 'sales_week_starting_2012-12-31.csv',\n",
       " 'sales_week_starting_2013-01-07.csv',\n",
       " 'sales_week_starting_2013-01-14.csv',\n",
       " 'sales_week_starting_2013-01-21.csv',\n",
       " 'sales_week_starting_2013-01-28.csv',\n",
       " 'sales_week_starting_2013-02-04.csv',\n",
       " 'sales_week_starting_2013-02-11.csv',\n",
       " 'sales_week_starting_2013-02-18.csv',\n",
       " 'sales_week_starting_2013-02-25.csv',\n",
       " 'sales_week_starting_2013-03-04.csv',\n",
       " 'sales_week_starting_2013-03-11.csv',\n",
       " 'sales_week_starting_2013-03-18.csv',\n",
       " 'sales_week_starting_2013-03-25.csv',\n",
       " 'sales_week_starting_2013-04-01.csv',\n",
       " 'sales_week_starting_2013-04-08.csv',\n",
       " 'sales_week_starting_2013-04-15.csv',\n",
       " 'sales_week_starting_2013-04-22.csv',\n",
       " 'sales_week_starting_2013-04-29.csv',\n",
       " 'sales_week_starting_2013-05-06.csv',\n",
       " 'sales_week_starting_2013-05-13.csv',\n",
       " 'sales_week_starting_2013-05-20.csv',\n",
       " 'sales_week_starting_2013-05-27.csv',\n",
       " 'sales_week_starting_2013-06-03.csv',\n",
       " 'sales_week_starting_2013-06-10.csv',\n",
       " 'sales_week_starting_2013-06-17.csv',\n",
       " 'sales_week_starting_2013-06-24.csv',\n",
       " 'sales_week_starting_2013-07-01.csv',\n",
       " 'sales_week_starting_2013-07-08.csv',\n",
       " 'sales_week_starting_2013-07-15.csv',\n",
       " 'sales_week_starting_2013-07-22.csv',\n",
       " 'sales_week_starting_2013-07-29.csv',\n",
       " 'sales_week_starting_2013-08-05.csv',\n",
       " 'sales_week_starting_2013-08-12.csv',\n",
       " 'sales_week_starting_2013-08-19.csv',\n",
       " 'sales_week_starting_2013-08-26.csv',\n",
       " 'sales_week_starting_2013-09-02.csv',\n",
       " 'sales_week_starting_2013-09-09.csv']"
      ]
     },
     "execution_count": 8,
     "metadata": {},
     "output_type": "execute_result"
    }
   ],
   "source": [
    "ordered_list"
   ]
  },
  {
   "cell_type": "code",
   "execution_count": 9,
   "id": "c88e8652",
   "metadata": {},
   "outputs": [],
   "source": [
    "sample_file = pd.read_csv(\"datasets/\"+ordered_list[0])"
   ]
  },
  {
   "cell_type": "code",
   "execution_count": 10,
   "id": "de2545e6",
   "metadata": {},
   "outputs": [
    {
     "data": {
      "text/html": [
       "<div>\n",
       "<style scoped>\n",
       "    .dataframe tbody tr th:only-of-type {\n",
       "        vertical-align: middle;\n",
       "    }\n",
       "\n",
       "    .dataframe tbody tr th {\n",
       "        vertical-align: top;\n",
       "    }\n",
       "\n",
       "    .dataframe thead th {\n",
       "        text-align: right;\n",
       "    }\n",
       "</style>\n",
       "<table border=\"1\" class=\"dataframe\">\n",
       "  <thead>\n",
       "    <tr style=\"text-align: right;\">\n",
       "      <th></th>\n",
       "      <th>sale_time</th>\n",
       "      <th>purchaser_gender</th>\n",
       "    </tr>\n",
       "  </thead>\n",
       "  <tbody>\n",
       "    <tr>\n",
       "      <th>0</th>\n",
       "      <td>2012-10-01 01:42:22</td>\n",
       "      <td>female</td>\n",
       "    </tr>\n",
       "    <tr>\n",
       "      <th>1</th>\n",
       "      <td>2012-10-01 02:24:53</td>\n",
       "      <td>female</td>\n",
       "    </tr>\n",
       "    <tr>\n",
       "      <th>2</th>\n",
       "      <td>2012-10-01 02:25:40</td>\n",
       "      <td>female</td>\n",
       "    </tr>\n",
       "    <tr>\n",
       "      <th>3</th>\n",
       "      <td>2012-10-01 02:30:42</td>\n",
       "      <td>female</td>\n",
       "    </tr>\n",
       "    <tr>\n",
       "      <th>4</th>\n",
       "      <td>2012-10-01 02:51:32</td>\n",
       "      <td>male</td>\n",
       "    </tr>\n",
       "    <tr>\n",
       "      <th>...</th>\n",
       "      <td>...</td>\n",
       "      <td>...</td>\n",
       "    </tr>\n",
       "    <tr>\n",
       "      <th>3540</th>\n",
       "      <td>2012-10-07 22:27:11</td>\n",
       "      <td>female</td>\n",
       "    </tr>\n",
       "    <tr>\n",
       "      <th>3541</th>\n",
       "      <td>2012-10-07 22:42:23</td>\n",
       "      <td>female</td>\n",
       "    </tr>\n",
       "    <tr>\n",
       "      <th>3542</th>\n",
       "      <td>2012-10-07 22:42:31</td>\n",
       "      <td>female</td>\n",
       "    </tr>\n",
       "    <tr>\n",
       "      <th>3543</th>\n",
       "      <td>2012-10-07 23:04:24</td>\n",
       "      <td>female</td>\n",
       "    </tr>\n",
       "    <tr>\n",
       "      <th>3544</th>\n",
       "      <td>2012-10-07 23:37:56</td>\n",
       "      <td>female</td>\n",
       "    </tr>\n",
       "  </tbody>\n",
       "</table>\n",
       "<p>3545 rows × 2 columns</p>\n",
       "</div>"
      ],
      "text/plain": [
       "                sale_time purchaser_gender\n",
       "0     2012-10-01 01:42:22           female\n",
       "1     2012-10-01 02:24:53           female\n",
       "2     2012-10-01 02:25:40           female\n",
       "3     2012-10-01 02:30:42           female\n",
       "4     2012-10-01 02:51:32             male\n",
       "...                   ...              ...\n",
       "3540  2012-10-07 22:27:11           female\n",
       "3541  2012-10-07 22:42:23           female\n",
       "3542  2012-10-07 22:42:31           female\n",
       "3543  2012-10-07 23:04:24           female\n",
       "3544  2012-10-07 23:37:56           female\n",
       "\n",
       "[3545 rows x 2 columns]"
      ]
     },
     "execution_count": 10,
     "metadata": {},
     "output_type": "execute_result"
    }
   ],
   "source": [
    "sample_file"
   ]
  },
  {
   "cell_type": "code",
   "execution_count": 11,
   "id": "43e952ff",
   "metadata": {},
   "outputs": [],
   "source": [
    "total_sales = pd.read_csv(\"datasets/\"+ordered_list[0])"
   ]
  },
  {
   "cell_type": "code",
   "execution_count": 12,
   "id": "2d11407d",
   "metadata": {},
   "outputs": [],
   "source": [
    "for i in range(1,len(ordered_list)):\n",
    "    current_week = pd.read_csv(\"datasets/\"+ordered_list[i])\n",
    "    total_sales = pd.concat([total_sales,current_week],axis=0)"
   ]
  },
  {
   "cell_type": "code",
   "execution_count": 13,
   "id": "ec131957",
   "metadata": {},
   "outputs": [
    {
     "data": {
      "text/html": [
       "<div>\n",
       "<style scoped>\n",
       "    .dataframe tbody tr th:only-of-type {\n",
       "        vertical-align: middle;\n",
       "    }\n",
       "\n",
       "    .dataframe tbody tr th {\n",
       "        vertical-align: top;\n",
       "    }\n",
       "\n",
       "    .dataframe thead th {\n",
       "        text-align: right;\n",
       "    }\n",
       "</style>\n",
       "<table border=\"1\" class=\"dataframe\">\n",
       "  <thead>\n",
       "    <tr style=\"text-align: right;\">\n",
       "      <th></th>\n",
       "      <th>sale_time</th>\n",
       "      <th>purchaser_gender</th>\n",
       "    </tr>\n",
       "  </thead>\n",
       "  <tbody>\n",
       "    <tr>\n",
       "      <th>0</th>\n",
       "      <td>2012-10-01 01:42:22</td>\n",
       "      <td>female</td>\n",
       "    </tr>\n",
       "    <tr>\n",
       "      <th>1</th>\n",
       "      <td>2012-10-01 02:24:53</td>\n",
       "      <td>female</td>\n",
       "    </tr>\n",
       "    <tr>\n",
       "      <th>2</th>\n",
       "      <td>2012-10-01 02:25:40</td>\n",
       "      <td>female</td>\n",
       "    </tr>\n",
       "    <tr>\n",
       "      <th>3</th>\n",
       "      <td>2012-10-01 02:30:42</td>\n",
       "      <td>female</td>\n",
       "    </tr>\n",
       "    <tr>\n",
       "      <th>4</th>\n",
       "      <td>2012-10-01 02:51:32</td>\n",
       "      <td>male</td>\n",
       "    </tr>\n",
       "    <tr>\n",
       "      <th>...</th>\n",
       "      <td>...</td>\n",
       "      <td>...</td>\n",
       "    </tr>\n",
       "    <tr>\n",
       "      <th>4994</th>\n",
       "      <td>2013-09-15 23:30:51</td>\n",
       "      <td>female</td>\n",
       "    </tr>\n",
       "    <tr>\n",
       "      <th>4995</th>\n",
       "      <td>2013-09-15 23:42:02</td>\n",
       "      <td>female</td>\n",
       "    </tr>\n",
       "    <tr>\n",
       "      <th>4996</th>\n",
       "      <td>2013-09-15 23:43:24</td>\n",
       "      <td>male</td>\n",
       "    </tr>\n",
       "    <tr>\n",
       "      <th>4997</th>\n",
       "      <td>2013-09-15 23:43:32</td>\n",
       "      <td>male</td>\n",
       "    </tr>\n",
       "    <tr>\n",
       "      <th>4998</th>\n",
       "      <td>2013-09-15 23:48:47</td>\n",
       "      <td>male</td>\n",
       "    </tr>\n",
       "  </tbody>\n",
       "</table>\n",
       "<p>204329 rows × 2 columns</p>\n",
       "</div>"
      ],
      "text/plain": [
       "                sale_time purchaser_gender\n",
       "0     2012-10-01 01:42:22           female\n",
       "1     2012-10-01 02:24:53           female\n",
       "2     2012-10-01 02:25:40           female\n",
       "3     2012-10-01 02:30:42           female\n",
       "4     2012-10-01 02:51:32             male\n",
       "...                   ...              ...\n",
       "4994  2013-09-15 23:30:51           female\n",
       "4995  2013-09-15 23:42:02           female\n",
       "4996  2013-09-15 23:43:24             male\n",
       "4997  2013-09-15 23:43:32             male\n",
       "4998  2013-09-15 23:48:47             male\n",
       "\n",
       "[204329 rows x 2 columns]"
      ]
     },
     "execution_count": 13,
     "metadata": {},
     "output_type": "execute_result"
    }
   ],
   "source": [
    "total_sales"
   ]
  },
  {
   "cell_type": "code",
   "execution_count": 14,
   "id": "d1337730",
   "metadata": {},
   "outputs": [],
   "source": [
    "total_sales.reset_index(drop=True,inplace = True)"
   ]
  },
  {
   "cell_type": "code",
   "execution_count": 15,
   "id": "29cb9651",
   "metadata": {},
   "outputs": [],
   "source": [
    "total_sales.sort_values(by = 'sale_time',inplace = True)"
   ]
  },
  {
   "cell_type": "code",
   "execution_count": 16,
   "id": "f8e80524",
   "metadata": {},
   "outputs": [
    {
     "data": {
      "text/html": [
       "<div>\n",
       "<style scoped>\n",
       "    .dataframe tbody tr th:only-of-type {\n",
       "        vertical-align: middle;\n",
       "    }\n",
       "\n",
       "    .dataframe tbody tr th {\n",
       "        vertical-align: top;\n",
       "    }\n",
       "\n",
       "    .dataframe thead th {\n",
       "        text-align: right;\n",
       "    }\n",
       "</style>\n",
       "<table border=\"1\" class=\"dataframe\">\n",
       "  <thead>\n",
       "    <tr style=\"text-align: right;\">\n",
       "      <th></th>\n",
       "      <th>sale_time</th>\n",
       "      <th>purchaser_gender</th>\n",
       "    </tr>\n",
       "  </thead>\n",
       "  <tbody>\n",
       "    <tr>\n",
       "      <th>0</th>\n",
       "      <td>2012-10-01 01:42:22</td>\n",
       "      <td>female</td>\n",
       "    </tr>\n",
       "    <tr>\n",
       "      <th>1</th>\n",
       "      <td>2012-10-01 02:24:53</td>\n",
       "      <td>female</td>\n",
       "    </tr>\n",
       "    <tr>\n",
       "      <th>2</th>\n",
       "      <td>2012-10-01 02:25:40</td>\n",
       "      <td>female</td>\n",
       "    </tr>\n",
       "    <tr>\n",
       "      <th>3</th>\n",
       "      <td>2012-10-01 02:30:42</td>\n",
       "      <td>female</td>\n",
       "    </tr>\n",
       "    <tr>\n",
       "      <th>4</th>\n",
       "      <td>2012-10-01 02:51:32</td>\n",
       "      <td>male</td>\n",
       "    </tr>\n",
       "    <tr>\n",
       "      <th>...</th>\n",
       "      <td>...</td>\n",
       "      <td>...</td>\n",
       "    </tr>\n",
       "    <tr>\n",
       "      <th>204324</th>\n",
       "      <td>2013-09-15 23:30:51</td>\n",
       "      <td>female</td>\n",
       "    </tr>\n",
       "    <tr>\n",
       "      <th>204325</th>\n",
       "      <td>2013-09-15 23:42:02</td>\n",
       "      <td>female</td>\n",
       "    </tr>\n",
       "    <tr>\n",
       "      <th>204326</th>\n",
       "      <td>2013-09-15 23:43:24</td>\n",
       "      <td>male</td>\n",
       "    </tr>\n",
       "    <tr>\n",
       "      <th>204327</th>\n",
       "      <td>2013-09-15 23:43:32</td>\n",
       "      <td>male</td>\n",
       "    </tr>\n",
       "    <tr>\n",
       "      <th>204328</th>\n",
       "      <td>2013-09-15 23:48:47</td>\n",
       "      <td>male</td>\n",
       "    </tr>\n",
       "  </tbody>\n",
       "</table>\n",
       "<p>204329 rows × 2 columns</p>\n",
       "</div>"
      ],
      "text/plain": [
       "                  sale_time purchaser_gender\n",
       "0       2012-10-01 01:42:22           female\n",
       "1       2012-10-01 02:24:53           female\n",
       "2       2012-10-01 02:25:40           female\n",
       "3       2012-10-01 02:30:42           female\n",
       "4       2012-10-01 02:51:32             male\n",
       "...                     ...              ...\n",
       "204324  2013-09-15 23:30:51           female\n",
       "204325  2013-09-15 23:42:02           female\n",
       "204326  2013-09-15 23:43:24             male\n",
       "204327  2013-09-15 23:43:32             male\n",
       "204328  2013-09-15 23:48:47             male\n",
       "\n",
       "[204329 rows x 2 columns]"
      ]
     },
     "execution_count": 16,
     "metadata": {},
     "output_type": "execute_result"
    }
   ],
   "source": [
    "total_sales"
   ]
  },
  {
   "cell_type": "code",
   "execution_count": 17,
   "id": "a6382f6b",
   "metadata": {},
   "outputs": [
    {
     "data": {
      "text/plain": [
       "sale_time           0\n",
       "purchaser_gender    0\n",
       "dtype: int64"
      ]
     },
     "execution_count": 17,
     "metadata": {},
     "output_type": "execute_result"
    }
   ],
   "source": [
    "total_sales.isnull().sum()"
   ]
  },
  {
   "cell_type": "code",
   "execution_count": 18,
   "id": "fac92264",
   "metadata": {},
   "outputs": [
    {
     "data": {
      "text/plain": [
       "dtype('O')"
      ]
     },
     "execution_count": 18,
     "metadata": {},
     "output_type": "execute_result"
    }
   ],
   "source": [
    "total_sales['sale_time'].dtype"
   ]
  },
  {
   "cell_type": "code",
   "execution_count": 19,
   "id": "54287b29",
   "metadata": {},
   "outputs": [],
   "source": [
    "first_date = datetime.strptime(total_sales['sale_time'][0],'%Y-%m-%d %H:%M:%S')"
   ]
  },
  {
   "cell_type": "code",
   "execution_count": 20,
   "id": "9ddebcd3",
   "metadata": {},
   "outputs": [
    {
     "data": {
      "text/plain": [
       "datetime.date(2012, 10, 1)"
      ]
     },
     "execution_count": 20,
     "metadata": {},
     "output_type": "execute_result"
    }
   ],
   "source": [
    "first_date.date()"
   ]
  },
  {
   "cell_type": "code",
   "execution_count": 21,
   "id": "896278a1",
   "metadata": {},
   "outputs": [],
   "source": [
    "total_sales['date'] = total_sales['sale_time'].apply(lambda x: datetime.strptime(x,'%Y-%m-%d %H:%M:%S').date() )"
   ]
  },
  {
   "cell_type": "code",
   "execution_count": 22,
   "id": "5ed02200",
   "metadata": {},
   "outputs": [
    {
     "data": {
      "text/plain": [
       "0         2012-10-01\n",
       "1         2012-10-01\n",
       "2         2012-10-01\n",
       "3         2012-10-01\n",
       "4         2012-10-01\n",
       "             ...    \n",
       "204324    2013-09-15\n",
       "204325    2013-09-15\n",
       "204326    2013-09-15\n",
       "204327    2013-09-15\n",
       "204328    2013-09-15\n",
       "Name: date, Length: 204329, dtype: object"
      ]
     },
     "execution_count": 22,
     "metadata": {},
     "output_type": "execute_result"
    }
   ],
   "source": [
    "total_sales['date']"
   ]
  },
  {
   "cell_type": "code",
   "execution_count": 23,
   "id": "54dce594",
   "metadata": {},
   "outputs": [],
   "source": [
    "sales_per_day = total_sales[['date','purchaser_gender']].groupby(by = 'date').count()"
   ]
  },
  {
   "cell_type": "code",
   "execution_count": 24,
   "id": "afc0977f",
   "metadata": {},
   "outputs": [
    {
     "data": {
      "text/html": [
       "<div>\n",
       "<style scoped>\n",
       "    .dataframe tbody tr th:only-of-type {\n",
       "        vertical-align: middle;\n",
       "    }\n",
       "\n",
       "    .dataframe tbody tr th {\n",
       "        vertical-align: top;\n",
       "    }\n",
       "\n",
       "    .dataframe thead th {\n",
       "        text-align: right;\n",
       "    }\n",
       "</style>\n",
       "<table border=\"1\" class=\"dataframe\">\n",
       "  <thead>\n",
       "    <tr style=\"text-align: right;\">\n",
       "      <th></th>\n",
       "      <th>purchaser_gender</th>\n",
       "    </tr>\n",
       "    <tr>\n",
       "      <th>date</th>\n",
       "      <th></th>\n",
       "    </tr>\n",
       "  </thead>\n",
       "  <tbody>\n",
       "    <tr>\n",
       "      <th>2012-10-01</th>\n",
       "      <td>514</td>\n",
       "    </tr>\n",
       "    <tr>\n",
       "      <th>2012-10-02</th>\n",
       "      <td>482</td>\n",
       "    </tr>\n",
       "    <tr>\n",
       "      <th>2012-10-03</th>\n",
       "      <td>499</td>\n",
       "    </tr>\n",
       "    <tr>\n",
       "      <th>2012-10-04</th>\n",
       "      <td>546</td>\n",
       "    </tr>\n",
       "    <tr>\n",
       "      <th>2012-10-05</th>\n",
       "      <td>476</td>\n",
       "    </tr>\n",
       "    <tr>\n",
       "      <th>...</th>\n",
       "      <td>...</td>\n",
       "    </tr>\n",
       "    <tr>\n",
       "      <th>2013-09-11</th>\n",
       "      <td>719</td>\n",
       "    </tr>\n",
       "    <tr>\n",
       "      <th>2013-09-12</th>\n",
       "      <td>735</td>\n",
       "    </tr>\n",
       "    <tr>\n",
       "      <th>2013-09-13</th>\n",
       "      <td>743</td>\n",
       "    </tr>\n",
       "    <tr>\n",
       "      <th>2013-09-14</th>\n",
       "      <td>655</td>\n",
       "    </tr>\n",
       "    <tr>\n",
       "      <th>2013-09-15</th>\n",
       "      <td>752</td>\n",
       "    </tr>\n",
       "  </tbody>\n",
       "</table>\n",
       "<p>350 rows × 1 columns</p>\n",
       "</div>"
      ],
      "text/plain": [
       "            purchaser_gender\n",
       "date                        \n",
       "2012-10-01               514\n",
       "2012-10-02               482\n",
       "2012-10-03               499\n",
       "2012-10-04               546\n",
       "2012-10-05               476\n",
       "...                      ...\n",
       "2013-09-11               719\n",
       "2013-09-12               735\n",
       "2013-09-13               743\n",
       "2013-09-14               655\n",
       "2013-09-15               752\n",
       "\n",
       "[350 rows x 1 columns]"
      ]
     },
     "execution_count": 24,
     "metadata": {},
     "output_type": "execute_result"
    }
   ],
   "source": [
    "sales_per_day"
   ]
  },
  {
   "cell_type": "code",
   "execution_count": 25,
   "id": "606b9a68",
   "metadata": {},
   "outputs": [
    {
     "data": {
      "image/png": "[encoded data removed]",
      "text/plain": [
       "<Figure size 432x288 with 1 Axes>"
      ]
     },
     "metadata": {
      "needs_background": "light"
     },
     "output_type": "display_data"
    }
   ],
   "source": [
    "sales_per_day.plot()\n",
    "plt.show()"
   ]
  },
  {
   "cell_type": "code",
   "execution_count": 26,
   "id": "7cc47921",
   "metadata": {},
   "outputs": [],
   "source": [
    "shifted_df = sales_per_day.shift(1)"
   ]
  },
  {
   "cell_type": "code",
   "execution_count": 27,
   "id": "aca01630",
   "metadata": {},
   "outputs": [
    {
     "data": {
      "text/html": [
       "<div>\n",
       "<style scoped>\n",
       "    .dataframe tbody tr th:only-of-type {\n",
       "        vertical-align: middle;\n",
       "    }\n",
       "\n",
       "    .dataframe tbody tr th {\n",
       "        vertical-align: top;\n",
       "    }\n",
       "\n",
       "    .dataframe thead th {\n",
       "        text-align: right;\n",
       "    }\n",
       "</style>\n",
       "<table border=\"1\" class=\"dataframe\">\n",
       "  <thead>\n",
       "    <tr style=\"text-align: right;\">\n",
       "      <th></th>\n",
       "      <th>purchaser_gender</th>\n",
       "    </tr>\n",
       "    <tr>\n",
       "      <th>date</th>\n",
       "      <th></th>\n",
       "    </tr>\n",
       "  </thead>\n",
       "  <tbody>\n",
       "    <tr>\n",
       "      <th>2012-10-01</th>\n",
       "      <td>NaN</td>\n",
       "    </tr>\n",
       "    <tr>\n",
       "      <th>2012-10-02</th>\n",
       "      <td>514.0</td>\n",
       "    </tr>\n",
       "    <tr>\n",
       "      <th>2012-10-03</th>\n",
       "      <td>482.0</td>\n",
       "    </tr>\n",
       "    <tr>\n",
       "      <th>2012-10-04</th>\n",
       "      <td>499.0</td>\n",
       "    </tr>\n",
       "    <tr>\n",
       "      <th>2012-10-05</th>\n",
       "      <td>546.0</td>\n",
       "    </tr>\n",
       "    <tr>\n",
       "      <th>...</th>\n",
       "      <td>...</td>\n",
       "    </tr>\n",
       "    <tr>\n",
       "      <th>2013-09-11</th>\n",
       "      <td>715.0</td>\n",
       "    </tr>\n",
       "    <tr>\n",
       "      <th>2013-09-12</th>\n",
       "      <td>719.0</td>\n",
       "    </tr>\n",
       "    <tr>\n",
       "      <th>2013-09-13</th>\n",
       "      <td>735.0</td>\n",
       "    </tr>\n",
       "    <tr>\n",
       "      <th>2013-09-14</th>\n",
       "      <td>743.0</td>\n",
       "    </tr>\n",
       "    <tr>\n",
       "      <th>2013-09-15</th>\n",
       "      <td>655.0</td>\n",
       "    </tr>\n",
       "  </tbody>\n",
       "</table>\n",
       "<p>350 rows × 1 columns</p>\n",
       "</div>"
      ],
      "text/plain": [
       "            purchaser_gender\n",
       "date                        \n",
       "2012-10-01               NaN\n",
       "2012-10-02             514.0\n",
       "2012-10-03             482.0\n",
       "2012-10-04             499.0\n",
       "2012-10-05             546.0\n",
       "...                      ...\n",
       "2013-09-11             715.0\n",
       "2013-09-12             719.0\n",
       "2013-09-13             735.0\n",
       "2013-09-14             743.0\n",
       "2013-09-15             655.0\n",
       "\n",
       "[350 rows x 1 columns]"
      ]
     },
     "execution_count": 27,
     "metadata": {},
     "output_type": "execute_result"
    }
   ],
   "source": [
    "shifted_df"
   ]
  },
  {
   "cell_type": "code",
   "execution_count": 28,
   "id": "adba52fc",
   "metadata": {},
   "outputs": [],
   "source": [
    "sales_difference = sales_per_day-shifted_df"
   ]
  },
  {
   "cell_type": "markdown",
   "id": "a6dd139d",
   "metadata": {},
   "source": [
    "sales_difference"
   ]
  },
  {
   "cell_type": "code",
   "execution_count": 29,
   "id": "18d9f438",
   "metadata": {},
   "outputs": [
    {
     "data": {
      "text/html": [
       "<div>\n",
       "<style scoped>\n",
       "    .dataframe tbody tr th:only-of-type {\n",
       "        vertical-align: middle;\n",
       "    }\n",
       "\n",
       "    .dataframe tbody tr th {\n",
       "        vertical-align: top;\n",
       "    }\n",
       "\n",
       "    .dataframe thead th {\n",
       "        text-align: right;\n",
       "    }\n",
       "</style>\n",
       "<table border=\"1\" class=\"dataframe\">\n",
       "  <thead>\n",
       "    <tr style=\"text-align: right;\">\n",
       "      <th></th>\n",
       "      <th>purchaser_gender</th>\n",
       "    </tr>\n",
       "    <tr>\n",
       "      <th>date</th>\n",
       "      <th></th>\n",
       "    </tr>\n",
       "  </thead>\n",
       "  <tbody>\n",
       "    <tr>\n",
       "      <th>2013-04-29</th>\n",
       "      <td>274.0</td>\n",
       "    </tr>\n",
       "    <tr>\n",
       "      <th>2013-03-28</th>\n",
       "      <td>169.0</td>\n",
       "    </tr>\n",
       "    <tr>\n",
       "      <th>2013-03-31</th>\n",
       "      <td>147.0</td>\n",
       "    </tr>\n",
       "    <tr>\n",
       "      <th>2013-02-16</th>\n",
       "      <td>119.0</td>\n",
       "    </tr>\n",
       "    <tr>\n",
       "      <th>2013-08-06</th>\n",
       "      <td>115.0</td>\n",
       "    </tr>\n",
       "    <tr>\n",
       "      <th>...</th>\n",
       "      <td>...</td>\n",
       "    </tr>\n",
       "    <tr>\n",
       "      <th>2013-01-11</th>\n",
       "      <td>-127.0</td>\n",
       "    </tr>\n",
       "    <tr>\n",
       "      <th>2013-02-15</th>\n",
       "      <td>-137.0</td>\n",
       "    </tr>\n",
       "    <tr>\n",
       "      <th>2013-05-31</th>\n",
       "      <td>-139.0</td>\n",
       "    </tr>\n",
       "    <tr>\n",
       "      <th>2013-06-19</th>\n",
       "      <td>-159.0</td>\n",
       "    </tr>\n",
       "    <tr>\n",
       "      <th>2012-10-01</th>\n",
       "      <td>NaN</td>\n",
       "    </tr>\n",
       "  </tbody>\n",
       "</table>\n",
       "<p>350 rows × 1 columns</p>\n",
       "</div>"
      ],
      "text/plain": [
       "            purchaser_gender\n",
       "date                        \n",
       "2013-04-29             274.0\n",
       "2013-03-28             169.0\n",
       "2013-03-31             147.0\n",
       "2013-02-16             119.0\n",
       "2013-08-06             115.0\n",
       "...                      ...\n",
       "2013-01-11            -127.0\n",
       "2013-02-15            -137.0\n",
       "2013-05-31            -139.0\n",
       "2013-06-19            -159.0\n",
       "2012-10-01               NaN\n",
       "\n",
       "[350 rows x 1 columns]"
      ]
     },
     "execution_count": 29,
     "metadata": {},
     "output_type": "execute_result"
    }
   ],
   "source": [
    "sales_difference.sort_values(by = 'purchaser_gender',ascending = False)"
   ]
  },
  {
   "cell_type": "markdown",
   "id": "592b6a34",
   "metadata": {},
   "source": [
    "## As we can see the biggest difference occured on 29th April, 2013 . The sales increased on this day by a big difference than the previous day."
   ]
  },
  {
   "cell_type": "code",
   "execution_count": 30,
   "id": "abffe619",
   "metadata": {},
   "outputs": [
    {
     "data": {
      "text/html": [
       "<div>\n",
       "<style scoped>\n",
       "    .dataframe tbody tr th:only-of-type {\n",
       "        vertical-align: middle;\n",
       "    }\n",
       "\n",
       "    .dataframe tbody tr th {\n",
       "        vertical-align: top;\n",
       "    }\n",
       "\n",
       "    .dataframe thead th {\n",
       "        text-align: right;\n",
       "    }\n",
       "</style>\n",
       "<table border=\"1\" class=\"dataframe\">\n",
       "  <thead>\n",
       "    <tr style=\"text-align: right;\">\n",
       "      <th></th>\n",
       "      <th>sale_time</th>\n",
       "      <th>purchaser_gender</th>\n",
       "      <th>date</th>\n",
       "    </tr>\n",
       "  </thead>\n",
       "  <tbody>\n",
       "    <tr>\n",
       "      <th>0</th>\n",
       "      <td>2012-10-01 01:42:22</td>\n",
       "      <td>female</td>\n",
       "      <td>2012-10-01</td>\n",
       "    </tr>\n",
       "    <tr>\n",
       "      <th>1</th>\n",
       "      <td>2012-10-01 02:24:53</td>\n",
       "      <td>female</td>\n",
       "      <td>2012-10-01</td>\n",
       "    </tr>\n",
       "    <tr>\n",
       "      <th>2</th>\n",
       "      <td>2012-10-01 02:25:40</td>\n",
       "      <td>female</td>\n",
       "      <td>2012-10-01</td>\n",
       "    </tr>\n",
       "    <tr>\n",
       "      <th>3</th>\n",
       "      <td>2012-10-01 02:30:42</td>\n",
       "      <td>female</td>\n",
       "      <td>2012-10-01</td>\n",
       "    </tr>\n",
       "    <tr>\n",
       "      <th>4</th>\n",
       "      <td>2012-10-01 02:51:32</td>\n",
       "      <td>male</td>\n",
       "      <td>2012-10-01</td>\n",
       "    </tr>\n",
       "    <tr>\n",
       "      <th>...</th>\n",
       "      <td>...</td>\n",
       "      <td>...</td>\n",
       "      <td>...</td>\n",
       "    </tr>\n",
       "    <tr>\n",
       "      <th>204324</th>\n",
       "      <td>2013-09-15 23:30:51</td>\n",
       "      <td>female</td>\n",
       "      <td>2013-09-15</td>\n",
       "    </tr>\n",
       "    <tr>\n",
       "      <th>204325</th>\n",
       "      <td>2013-09-15 23:42:02</td>\n",
       "      <td>female</td>\n",
       "      <td>2013-09-15</td>\n",
       "    </tr>\n",
       "    <tr>\n",
       "      <th>204326</th>\n",
       "      <td>2013-09-15 23:43:24</td>\n",
       "      <td>male</td>\n",
       "      <td>2013-09-15</td>\n",
       "    </tr>\n",
       "    <tr>\n",
       "      <th>204327</th>\n",
       "      <td>2013-09-15 23:43:32</td>\n",
       "      <td>male</td>\n",
       "      <td>2013-09-15</td>\n",
       "    </tr>\n",
       "    <tr>\n",
       "      <th>204328</th>\n",
       "      <td>2013-09-15 23:48:47</td>\n",
       "      <td>male</td>\n",
       "      <td>2013-09-15</td>\n",
       "    </tr>\n",
       "  </tbody>\n",
       "</table>\n",
       "<p>204329 rows × 3 columns</p>\n",
       "</div>"
      ],
      "text/plain": [
       "                  sale_time purchaser_gender        date\n",
       "0       2012-10-01 01:42:22           female  2012-10-01\n",
       "1       2012-10-01 02:24:53           female  2012-10-01\n",
       "2       2012-10-01 02:25:40           female  2012-10-01\n",
       "3       2012-10-01 02:30:42           female  2012-10-01\n",
       "4       2012-10-01 02:51:32             male  2012-10-01\n",
       "...                     ...              ...         ...\n",
       "204324  2013-09-15 23:30:51           female  2013-09-15\n",
       "204325  2013-09-15 23:42:02           female  2013-09-15\n",
       "204326  2013-09-15 23:43:24             male  2013-09-15\n",
       "204327  2013-09-15 23:43:32             male  2013-09-15\n",
       "204328  2013-09-15 23:48:47             male  2013-09-15\n",
       "\n",
       "[204329 rows x 3 columns]"
      ]
     },
     "execution_count": 30,
     "metadata": {},
     "output_type": "execute_result"
    }
   ],
   "source": [
    "total_sales"
   ]
  },
  {
   "cell_type": "code",
   "execution_count": 31,
   "id": "b27ee8cd",
   "metadata": {},
   "outputs": [],
   "source": [
    "dummies = pd.get_dummies(total_sales[['purchaser_gender']])"
   ]
  },
  {
   "cell_type": "code",
   "execution_count": 32,
   "id": "952089d1",
   "metadata": {},
   "outputs": [
    {
     "data": {
      "text/html": [
       "<div>\n",
       "<style scoped>\n",
       "    .dataframe tbody tr th:only-of-type {\n",
       "        vertical-align: middle;\n",
       "    }\n",
       "\n",
       "    .dataframe tbody tr th {\n",
       "        vertical-align: top;\n",
       "    }\n",
       "\n",
       "    .dataframe thead th {\n",
       "        text-align: right;\n",
       "    }\n",
       "</style>\n",
       "<table border=\"1\" class=\"dataframe\">\n",
       "  <thead>\n",
       "    <tr style=\"text-align: right;\">\n",
       "      <th></th>\n",
       "      <th>purchaser_gender_female</th>\n",
       "      <th>purchaser_gender_male</th>\n",
       "    </tr>\n",
       "  </thead>\n",
       "  <tbody>\n",
       "    <tr>\n",
       "      <th>0</th>\n",
       "      <td>1</td>\n",
       "      <td>0</td>\n",
       "    </tr>\n",
       "    <tr>\n",
       "      <th>1</th>\n",
       "      <td>1</td>\n",
       "      <td>0</td>\n",
       "    </tr>\n",
       "    <tr>\n",
       "      <th>2</th>\n",
       "      <td>1</td>\n",
       "      <td>0</td>\n",
       "    </tr>\n",
       "    <tr>\n",
       "      <th>3</th>\n",
       "      <td>1</td>\n",
       "      <td>0</td>\n",
       "    </tr>\n",
       "    <tr>\n",
       "      <th>4</th>\n",
       "      <td>0</td>\n",
       "      <td>1</td>\n",
       "    </tr>\n",
       "    <tr>\n",
       "      <th>...</th>\n",
       "      <td>...</td>\n",
       "      <td>...</td>\n",
       "    </tr>\n",
       "    <tr>\n",
       "      <th>204324</th>\n",
       "      <td>1</td>\n",
       "      <td>0</td>\n",
       "    </tr>\n",
       "    <tr>\n",
       "      <th>204325</th>\n",
       "      <td>1</td>\n",
       "      <td>0</td>\n",
       "    </tr>\n",
       "    <tr>\n",
       "      <th>204326</th>\n",
       "      <td>0</td>\n",
       "      <td>1</td>\n",
       "    </tr>\n",
       "    <tr>\n",
       "      <th>204327</th>\n",
       "      <td>0</td>\n",
       "      <td>1</td>\n",
       "    </tr>\n",
       "    <tr>\n",
       "      <th>204328</th>\n",
       "      <td>0</td>\n",
       "      <td>1</td>\n",
       "    </tr>\n",
       "  </tbody>\n",
       "</table>\n",
       "<p>204329 rows × 2 columns</p>\n",
       "</div>"
      ],
      "text/plain": [
       "        purchaser_gender_female  purchaser_gender_male\n",
       "0                             1                      0\n",
       "1                             1                      0\n",
       "2                             1                      0\n",
       "3                             1                      0\n",
       "4                             0                      1\n",
       "...                         ...                    ...\n",
       "204324                        1                      0\n",
       "204325                        1                      0\n",
       "204326                        0                      1\n",
       "204327                        0                      1\n",
       "204328                        0                      1\n",
       "\n",
       "[204329 rows x 2 columns]"
      ]
     },
     "execution_count": 32,
     "metadata": {},
     "output_type": "execute_result"
    }
   ],
   "source": [
    "dummies"
   ]
  },
  {
   "cell_type": "code",
   "execution_count": 33,
   "id": "499a46e1",
   "metadata": {},
   "outputs": [],
   "source": [
    "gender_df = pd.concat([total_sales,dummies],axis =1)"
   ]
  },
  {
   "cell_type": "code",
   "execution_count": 34,
   "id": "ad496941",
   "metadata": {},
   "outputs": [],
   "source": [
    "gender_df.drop(labels = ['purchaser_gender','sale_time'],axis =1,inplace = True)"
   ]
  },
  {
   "cell_type": "code",
   "execution_count": 35,
   "id": "e3479aa5",
   "metadata": {},
   "outputs": [
    {
     "data": {
      "text/html": [
       "<div>\n",
       "<style scoped>\n",
       "    .dataframe tbody tr th:only-of-type {\n",
       "        vertical-align: middle;\n",
       "    }\n",
       "\n",
       "    .dataframe tbody tr th {\n",
       "        vertical-align: top;\n",
       "    }\n",
       "\n",
       "    .dataframe thead th {\n",
       "        text-align: right;\n",
       "    }\n",
       "</style>\n",
       "<table border=\"1\" class=\"dataframe\">\n",
       "  <thead>\n",
       "    <tr style=\"text-align: right;\">\n",
       "      <th></th>\n",
       "      <th>date</th>\n",
       "      <th>purchaser_gender_female</th>\n",
       "      <th>purchaser_gender_male</th>\n",
       "    </tr>\n",
       "  </thead>\n",
       "  <tbody>\n",
       "    <tr>\n",
       "      <th>0</th>\n",
       "      <td>2012-10-01</td>\n",
       "      <td>1</td>\n",
       "      <td>0</td>\n",
       "    </tr>\n",
       "    <tr>\n",
       "      <th>1</th>\n",
       "      <td>2012-10-01</td>\n",
       "      <td>1</td>\n",
       "      <td>0</td>\n",
       "    </tr>\n",
       "    <tr>\n",
       "      <th>2</th>\n",
       "      <td>2012-10-01</td>\n",
       "      <td>1</td>\n",
       "      <td>0</td>\n",
       "    </tr>\n",
       "    <tr>\n",
       "      <th>3</th>\n",
       "      <td>2012-10-01</td>\n",
       "      <td>1</td>\n",
       "      <td>0</td>\n",
       "    </tr>\n",
       "    <tr>\n",
       "      <th>4</th>\n",
       "      <td>2012-10-01</td>\n",
       "      <td>0</td>\n",
       "      <td>1</td>\n",
       "    </tr>\n",
       "    <tr>\n",
       "      <th>...</th>\n",
       "      <td>...</td>\n",
       "      <td>...</td>\n",
       "      <td>...</td>\n",
       "    </tr>\n",
       "    <tr>\n",
       "      <th>204324</th>\n",
       "      <td>2013-09-15</td>\n",
       "      <td>1</td>\n",
       "      <td>0</td>\n",
       "    </tr>\n",
       "    <tr>\n",
       "      <th>204325</th>\n",
       "      <td>2013-09-15</td>\n",
       "      <td>1</td>\n",
       "      <td>0</td>\n",
       "    </tr>\n",
       "    <tr>\n",
       "      <th>204326</th>\n",
       "      <td>2013-09-15</td>\n",
       "      <td>0</td>\n",
       "      <td>1</td>\n",
       "    </tr>\n",
       "    <tr>\n",
       "      <th>204327</th>\n",
       "      <td>2013-09-15</td>\n",
       "      <td>0</td>\n",
       "      <td>1</td>\n",
       "    </tr>\n",
       "    <tr>\n",
       "      <th>204328</th>\n",
       "      <td>2013-09-15</td>\n",
       "      <td>0</td>\n",
       "      <td>1</td>\n",
       "    </tr>\n",
       "  </tbody>\n",
       "</table>\n",
       "<p>204329 rows × 3 columns</p>\n",
       "</div>"
      ],
      "text/plain": [
       "              date  purchaser_gender_female  purchaser_gender_male\n",
       "0       2012-10-01                        1                      0\n",
       "1       2012-10-01                        1                      0\n",
       "2       2012-10-01                        1                      0\n",
       "3       2012-10-01                        1                      0\n",
       "4       2012-10-01                        0                      1\n",
       "...            ...                      ...                    ...\n",
       "204324  2013-09-15                        1                      0\n",
       "204325  2013-09-15                        1                      0\n",
       "204326  2013-09-15                        0                      1\n",
       "204327  2013-09-15                        0                      1\n",
       "204328  2013-09-15                        0                      1\n",
       "\n",
       "[204329 rows x 3 columns]"
      ]
     },
     "execution_count": 35,
     "metadata": {},
     "output_type": "execute_result"
    }
   ],
   "source": [
    "gender_df"
   ]
  },
  {
   "cell_type": "code",
   "execution_count": 36,
   "id": "565f3f83",
   "metadata": {},
   "outputs": [],
   "source": [
    "sales_by_gender = gender_df.groupby(by = 'date').sum()"
   ]
  },
  {
   "cell_type": "code",
   "execution_count": 37,
   "id": "678ad17c",
   "metadata": {},
   "outputs": [
    {
     "data": {
      "text/html": [
       "<div>\n",
       "<style scoped>\n",
       "    .dataframe tbody tr th:only-of-type {\n",
       "        vertical-align: middle;\n",
       "    }\n",
       "\n",
       "    .dataframe tbody tr th {\n",
       "        vertical-align: top;\n",
       "    }\n",
       "\n",
       "    .dataframe thead th {\n",
       "        text-align: right;\n",
       "    }\n",
       "</style>\n",
       "<table border=\"1\" class=\"dataframe\">\n",
       "  <thead>\n",
       "    <tr style=\"text-align: right;\">\n",
       "      <th></th>\n",
       "      <th>purchaser_gender_female</th>\n",
       "      <th>purchaser_gender_male</th>\n",
       "    </tr>\n",
       "    <tr>\n",
       "      <th>date</th>\n",
       "      <th></th>\n",
       "      <th></th>\n",
       "    </tr>\n",
       "  </thead>\n",
       "  <tbody>\n",
       "    <tr>\n",
       "      <th>2012-10-01</th>\n",
       "      <td>413.0</td>\n",
       "      <td>101.0</td>\n",
       "    </tr>\n",
       "    <tr>\n",
       "      <th>2012-10-02</th>\n",
       "      <td>379.0</td>\n",
       "      <td>103.0</td>\n",
       "    </tr>\n",
       "    <tr>\n",
       "      <th>2012-10-03</th>\n",
       "      <td>386.0</td>\n",
       "      <td>113.0</td>\n",
       "    </tr>\n",
       "    <tr>\n",
       "      <th>2012-10-04</th>\n",
       "      <td>432.0</td>\n",
       "      <td>114.0</td>\n",
       "    </tr>\n",
       "    <tr>\n",
       "      <th>2012-10-05</th>\n",
       "      <td>368.0</td>\n",
       "      <td>108.0</td>\n",
       "    </tr>\n",
       "    <tr>\n",
       "      <th>...</th>\n",
       "      <td>...</td>\n",
       "      <td>...</td>\n",
       "    </tr>\n",
       "    <tr>\n",
       "      <th>2013-09-11</th>\n",
       "      <td>224.0</td>\n",
       "      <td>495.0</td>\n",
       "    </tr>\n",
       "    <tr>\n",
       "      <th>2013-09-12</th>\n",
       "      <td>225.0</td>\n",
       "      <td>510.0</td>\n",
       "    </tr>\n",
       "    <tr>\n",
       "      <th>2013-09-13</th>\n",
       "      <td>206.0</td>\n",
       "      <td>537.0</td>\n",
       "    </tr>\n",
       "    <tr>\n",
       "      <th>2013-09-14</th>\n",
       "      <td>193.0</td>\n",
       "      <td>462.0</td>\n",
       "    </tr>\n",
       "    <tr>\n",
       "      <th>2013-09-15</th>\n",
       "      <td>230.0</td>\n",
       "      <td>522.0</td>\n",
       "    </tr>\n",
       "  </tbody>\n",
       "</table>\n",
       "<p>350 rows × 2 columns</p>\n",
       "</div>"
      ],
      "text/plain": [
       "            purchaser_gender_female  purchaser_gender_male\n",
       "date                                                      \n",
       "2012-10-01                    413.0                  101.0\n",
       "2012-10-02                    379.0                  103.0\n",
       "2012-10-03                    386.0                  113.0\n",
       "2012-10-04                    432.0                  114.0\n",
       "2012-10-05                    368.0                  108.0\n",
       "...                             ...                    ...\n",
       "2013-09-11                    224.0                  495.0\n",
       "2013-09-12                    225.0                  510.0\n",
       "2013-09-13                    206.0                  537.0\n",
       "2013-09-14                    193.0                  462.0\n",
       "2013-09-15                    230.0                  522.0\n",
       "\n",
       "[350 rows x 2 columns]"
      ]
     },
     "execution_count": 37,
     "metadata": {},
     "output_type": "execute_result"
    }
   ],
   "source": [
    "sales_by_gender"
   ]
  },
  {
   "cell_type": "code",
   "execution_count": 38,
   "id": "9f8b0a9a",
   "metadata": {},
   "outputs": [
    {
     "data": {
      "image/png": "[encoded data removed]",
      "text/plain": [
       "<Figure size 432x288 with 1 Axes>"
      ]
     },
     "metadata": {
      "needs_background": "light"
     },
     "output_type": "display_data"
    }
   ],
   "source": [
    "sales_by_gender.plot()\n",
    "plt.show()"
   ]
  },
  {
   "cell_type": "markdown",
   "id": "92c91f39",
   "metadata": {},
   "source": [
    "## As the above graph shows the number of buyers increased so it doesn't seem the shift was due to male vs female proportion but after the change the dynamics started to change as the number of male buyers increased and female buyers decreased."
   ]
  },
  {
   "cell_type": "code",
   "execution_count": 39,
   "id": "86cd008b",
   "metadata": {},
   "outputs": [],
   "source": [
    "total_sales['hour'] = total_sales['sale_time'].apply(lambda x: datetime.strptime(x,'%Y-%m-%d %H:%M:%S').time().hour )"
   ]
  },
  {
   "cell_type": "code",
   "execution_count": 40,
   "id": "45ecc69d",
   "metadata": {},
   "outputs": [
    {
     "data": {
      "text/plain": [
       "0          1\n",
       "1          2\n",
       "2          2\n",
       "3          2\n",
       "4          2\n",
       "          ..\n",
       "204324    23\n",
       "204325    23\n",
       "204326    23\n",
       "204327    23\n",
       "204328    23\n",
       "Name: hour, Length: 204329, dtype: int64"
      ]
     },
     "execution_count": 40,
     "metadata": {},
     "output_type": "execute_result"
    }
   ],
   "source": [
    "total_sales['hour']"
   ]
  },
  {
   "cell_type": "code",
   "execution_count": 42,
   "id": "167efb15",
   "metadata": {},
   "outputs": [
    {
     "data": {
      "text/html": [
       "<div>\n",
       "<style scoped>\n",
       "    .dataframe tbody tr th:only-of-type {\n",
       "        vertical-align: middle;\n",
       "    }\n",
       "\n",
       "    .dataframe tbody tr th {\n",
       "        vertical-align: top;\n",
       "    }\n",
       "\n",
       "    .dataframe thead th {\n",
       "        text-align: right;\n",
       "    }\n",
       "</style>\n",
       "<table border=\"1\" class=\"dataframe\">\n",
       "  <thead>\n",
       "    <tr style=\"text-align: right;\">\n",
       "      <th></th>\n",
       "      <th>sale_time</th>\n",
       "      <th>purchaser_gender</th>\n",
       "      <th>date</th>\n",
       "      <th>hour</th>\n",
       "    </tr>\n",
       "  </thead>\n",
       "  <tbody>\n",
       "    <tr>\n",
       "      <th>1495</th>\n",
       "      <td>2012-10-04 00:58:21</td>\n",
       "      <td>male</td>\n",
       "      <td>2012-10-04</td>\n",
       "      <td>0</td>\n",
       "    </tr>\n",
       "    <tr>\n",
       "      <th>3545</th>\n",
       "      <td>2012-10-08 00:38:48</td>\n",
       "      <td>female</td>\n",
       "      <td>2012-10-08</td>\n",
       "      <td>0</td>\n",
       "    </tr>\n",
       "    <tr>\n",
       "      <th>3546</th>\n",
       "      <td>2012-10-08 00:50:35</td>\n",
       "      <td>female</td>\n",
       "      <td>2012-10-08</td>\n",
       "      <td>0</td>\n",
       "    </tr>\n",
       "    <tr>\n",
       "      <th>4071</th>\n",
       "      <td>2012-10-09 00:27:32</td>\n",
       "      <td>male</td>\n",
       "      <td>2012-10-09</td>\n",
       "      <td>0</td>\n",
       "    </tr>\n",
       "    <tr>\n",
       "      <th>5528</th>\n",
       "      <td>2012-10-12 00:27:57</td>\n",
       "      <td>male</td>\n",
       "      <td>2012-10-12</td>\n",
       "      <td>0</td>\n",
       "    </tr>\n",
       "    <tr>\n",
       "      <th>...</th>\n",
       "      <td>...</td>\n",
       "      <td>...</td>\n",
       "      <td>...</td>\n",
       "      <td>...</td>\n",
       "    </tr>\n",
       "    <tr>\n",
       "      <th>197218</th>\n",
       "      <td>2013-09-06 00:56:58</td>\n",
       "      <td>male</td>\n",
       "      <td>2013-09-06</td>\n",
       "      <td>0</td>\n",
       "    </tr>\n",
       "    <tr>\n",
       "      <th>199330</th>\n",
       "      <td>2013-09-09 00:37:24</td>\n",
       "      <td>male</td>\n",
       "      <td>2013-09-09</td>\n",
       "      <td>0</td>\n",
       "    </tr>\n",
       "    <tr>\n",
       "      <th>200010</th>\n",
       "      <td>2013-09-10 00:58:34</td>\n",
       "      <td>female</td>\n",
       "      <td>2013-09-10</td>\n",
       "      <td>0</td>\n",
       "    </tr>\n",
       "    <tr>\n",
       "      <th>200725</th>\n",
       "      <td>2013-09-11 00:38:46</td>\n",
       "      <td>female</td>\n",
       "      <td>2013-09-11</td>\n",
       "      <td>0</td>\n",
       "    </tr>\n",
       "    <tr>\n",
       "      <th>201444</th>\n",
       "      <td>2013-09-12 00:36:17</td>\n",
       "      <td>female</td>\n",
       "      <td>2013-09-12</td>\n",
       "      <td>0</td>\n",
       "    </tr>\n",
       "  </tbody>\n",
       "</table>\n",
       "<p>268 rows × 4 columns</p>\n",
       "</div>"
      ],
      "text/plain": [
       "                  sale_time purchaser_gender        date  hour\n",
       "1495    2012-10-04 00:58:21             male  2012-10-04     0\n",
       "3545    2012-10-08 00:38:48           female  2012-10-08     0\n",
       "3546    2012-10-08 00:50:35           female  2012-10-08     0\n",
       "4071    2012-10-09 00:27:32             male  2012-10-09     0\n",
       "5528    2012-10-12 00:27:57             male  2012-10-12     0\n",
       "...                     ...              ...         ...   ...\n",
       "197218  2013-09-06 00:56:58             male  2013-09-06     0\n",
       "199330  2013-09-09 00:37:24             male  2013-09-09     0\n",
       "200010  2013-09-10 00:58:34           female  2013-09-10     0\n",
       "200725  2013-09-11 00:38:46           female  2013-09-11     0\n",
       "201444  2013-09-12 00:36:17           female  2013-09-12     0\n",
       "\n",
       "[268 rows x 4 columns]"
      ]
     },
     "execution_count": 42,
     "metadata": {},
     "output_type": "execute_result"
    }
   ],
   "source": []
  },
  {
   "cell_type": "code",
   "execution_count": null,
   "id": "a8235bee",
   "metadata": {},
   "outputs": [],
   "source": []
  },
  {
   "cell_type": "code",
   "execution_count": 62,
   "id": "d9d22dc5",
   "metadata": {},
   "outputs": [],
   "source": [
    "def set_daypart(hour):\n",
    "    '''\n",
    "    This function sets daypart for each sale based on the hour at which the sale is made\n",
    "    \n",
    "    Input:\n",
    "    hour - The hour integer based on which daypart is calculated\n",
    "    \n",
    "    Output:\n",
    "    daypart - Based on the hour one of following dayparts - night, morning, afternoon, evening\n",
    "    \n",
    "    '''\n",
    "    if (hour>=0 and hour<6):\n",
    "        return 'night'\n",
    "    elif (hour>=6 and hour < 12):\n",
    "        return 'morning'\n",
    "    elif (hour>=12 and hour <18):\n",
    "        return 'afternoon'\n",
    "    elif (hour>=18 and hour <24):\n",
    "        return 'evening'\n",
    "    "
   ]
  },
  {
   "cell_type": "code",
   "execution_count": 63,
   "id": "74224262",
   "metadata": {},
   "outputs": [],
   "source": [
    "total_sales['daypart'] = total_sales['hour'].apply(set_daypart)"
   ]
  },
  {
   "cell_type": "code",
   "execution_count": 64,
   "id": "2ec78d8a",
   "metadata": {},
   "outputs": [
    {
     "data": {
      "text/plain": [
       "0           night\n",
       "1           night\n",
       "2           night\n",
       "3           night\n",
       "4           night\n",
       "           ...   \n",
       "204324    evening\n",
       "204325    evening\n",
       "204326    evening\n",
       "204327    evening\n",
       "204328    evening\n",
       "Name: daypart, Length: 204329, dtype: object"
      ]
     },
     "execution_count": 64,
     "metadata": {},
     "output_type": "execute_result"
    }
   ],
   "source": [
    "total_sales['daypart']"
   ]
  },
  {
   "cell_type": "code",
   "execution_count": 65,
   "id": "efea6e47",
   "metadata": {},
   "outputs": [],
   "source": [
    "sales_by_daypart = total_sales['daypart'].value_counts()"
   ]
  },
  {
   "cell_type": "code",
   "execution_count": 66,
   "id": "caac7bd0",
   "metadata": {},
   "outputs": [
    {
     "data": {
      "text/plain": [
       "afternoon    80533\n",
       "morning      62870\n",
       "evening      42620\n",
       "night        18306\n",
       "Name: daypart, dtype: int64"
      ]
     },
     "execution_count": 66,
     "metadata": {},
     "output_type": "execute_result"
    }
   ],
   "source": [
    "sales_by_daypart"
   ]
  },
  {
   "cell_type": "code",
   "execution_count": 67,
   "id": "2caf57d6",
   "metadata": {},
   "outputs": [],
   "source": [
    "sales_by_daypart = (sales_by_daypart/sales_by_daypart.sum())*100"
   ]
  },
  {
   "cell_type": "code",
   "execution_count": 68,
   "id": "2bf9b2fd",
   "metadata": {},
   "outputs": [
    {
     "data": {
      "text/plain": [
       "afternoon    39.413397\n",
       "morning      30.769005\n",
       "evening      20.858517\n",
       "night         8.959081\n",
       "Name: daypart, dtype: float64"
      ]
     },
     "execution_count": 68,
     "metadata": {},
     "output_type": "execute_result"
    }
   ],
   "source": [
    "sales_by_daypart"
   ]
  },
  {
   "cell_type": "markdown",
   "id": "201fff1b",
   "metadata": {},
   "source": [
    "## The above result mentions the percentage of sales over the 50 weeks in each daypart"
   ]
  },
  {
   "cell_type": "code",
   "execution_count": 69,
   "id": "af0144f9",
   "metadata": {},
   "outputs": [
    {
     "data": {
      "image/png": "[encoded data removed]",
      "text/plain": [
       "<Figure size 432x288 with 1 Axes>"
      ]
     },
     "metadata": {
      "needs_background": "light"
     },
     "output_type": "display_data"
    }
   ],
   "source": [
    "sales_by_daypart.plot(kind = 'bar')\n",
    "plt.title('Percentage of sales for each daypart')\n",
    "plt.ylabel('percentage')\n",
    "plt.show()"
   ]
  },
  {
   "cell_type": "code",
   "execution_count": null,
   "id": "863b729d",
   "metadata": {},
   "outputs": [],
   "source": []
  }
 ],
 "metadata": {
  "kernelspec": {
   "display_name": "Python 3 (ipykernel)",
   "language": "python",
   "name": "python3"
  },
  "language_info": {
   "codemirror_mode": {
    "name": "ipython",
    "version": 3
   },
   "file_extension": ".py",
   "mimetype": "text/x-python",
   "name": "python",
   "nbconvert_exporter": "python",
   "pygments_lexer": "ipython3",
   "version": "3.9.12"
  }
 },
 "nbformat": 4,
 "nbformat_minor": 5
}
